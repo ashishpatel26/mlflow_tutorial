{
 "cells": [
  {
   "cell_type": "code",
   "execution_count": null,
   "metadata": {},
   "outputs": [],
   "source": [
    "# author: Vladimir Osin \n",
    "import os\n",
    "import shutil\n",
    "import numpy  as np\n",
    "import pandas as pd\n",
    "import mlflow as mf\n",
    "import matplotlib.pylab as pylab"
   ]
  },
  {
   "cell_type": "markdown",
   "metadata": {},
   "source": [
    "## MLflow Tracking API \n",
    "\n",
    "Tracking component of MLflow allowing to execute your code as **runs**. During each run compulsory information about your code is recorded, like code version, timings of the run, source, parameters, metrics and artifacts. \n",
    "\n",
    "Support for Python, R, Java and REST APIs. \n",
    "\n",
    "### Main run components \n",
    "- Parameters    - any key-value input you need \n",
    "- Metrics   - any key-value numeric input, you can update metric during the run and then visualize in the MLflow UI\n",
    "- Artifacts - output files in any format (png, scikit-learn models, parquet)"
   ]
  },
  {
   "cell_type": "code",
   "execution_count": null,
   "metadata": {},
   "outputs": [],
   "source": [
    "# provide uri of your tracking server \n",
    "mf.set_tracking_uri('http://127.0.0.1:5000/')"
   ]
  },
  {
   "cell_type": "code",
   "execution_count": null,
   "metadata": {},
   "outputs": [],
   "source": [
    "# create experiment \n",
    "experiment_id = mf.set_experiment(\"Tracking - Python API Test\")"
   ]
  },
  {
   "cell_type": "code",
   "execution_count": null,
   "metadata": {},
   "outputs": [],
   "source": [
    "# single run of experiment\n",
    "mf.start_run()\n",
    "\n",
    "# logging params\n",
    "mf.log_param('beta', 0.9)\n",
    "mf.log_param('alpha', 0.3)\n",
    "\n",
    "#logging metrics\n",
    "for i in range(100):\n",
    "    mf.log_metric('accuracy', i)\n",
    "\n",
    "# closing the run\n",
    "mf.end_run()"
   ]
  },
  {
   "cell_type": "markdown",
   "metadata": {},
   "source": [
    "### Heart Experiment  "
   ]
  },
  {
   "cell_type": "code",
   "execution_count": null,
   "metadata": {},
   "outputs": [],
   "source": [
    "def draw_heart(fg_color: str, bg_color: str, text: str, folder_path: str):\n",
    "    # define function boundaries\n",
    "    x  = np.linspace(-2, 2, num=1000)\n",
    "    y1 = np.sqrt(1-(abs(x)-1)**2)\n",
    "    y2 = -3*np.sqrt(1-(abs(x)/2)**0.5)\n",
    "\n",
    "    # plot\n",
    "    pylab.fill_between(x, y1, color=bg_color)\n",
    "    pylab.fill_between(x, y2, color=bg_color)\n",
    "    pylab.xlim([-2.5, 2.5])\n",
    "    pylab.text(0, -0.8, text, fontsize=24, fontweight='bold', color=fg_color, horizontalalignment='center')\n",
    "    pylab.axis('off')\n",
    "\n",
    "    # save in the folder \n",
    "    pylab.savefig('{0}/{1}_{2}_{3}.png'.format(folder_path, fg_color, bg_color, text))\n",
    "\n",
    "    return np.random.randint(100)"
   ]
  },
  {
   "cell_type": "code",
   "execution_count": null,
   "metadata": {},
   "outputs": [],
   "source": [
    "# provide uri of your tracking server \n",
    "mf.set_tracking_uri('http://127.0.0.1:5000/')"
   ]
  },
  {
   "cell_type": "code",
   "execution_count": null,
   "metadata": {},
   "outputs": [],
   "source": [
    "# create experiment \n",
    "experiment_id = mf.set_experiment(\"Tracking - Python API Heart\")"
   ]
  },
  {
   "cell_type": "code",
   "execution_count": null,
   "metadata": {},
   "outputs": [],
   "source": [
    "with mf.start_run() as run:\n",
    "\n",
    "    # defining parameters\n",
    "    fg_color = 'red'\n",
    "    bg_color = 'Black'\n",
    "    text     = 'I love PyData'\n",
    "    folder   = 'tmp/'\n",
    "    \n",
    "    # logging params\n",
    "    mf.log_param(\"foreground color\", fg_color)\n",
    "    mf.log_param(\"background color\", bg_color)\n",
    "    mf.log_param(\"text\", bg_color)\n",
    "\n",
    "    # tags\n",
    "    mf.set_tag('info', 'test tracking API functionality')\n",
    "\n",
    "    # creating a temporary folder \n",
    "    os.makedirs(folder, exist_ok=True)\n",
    "\n",
    "    # drawing the heart and getting rating\n",
    "    rating = draw_heart(fg_color, bg_color, text, folder)\n",
    "    \n",
    "    # add some logging\n",
    "    with open(\"{0}/my_awesome_log.txt\".format(folder), \"w\") as f:\n",
    "        f.write(\"Hello PyData!\")\n",
    "        \n",
    "    # metrics\n",
    "    mf.log_metric('rating', rating)\n",
    "\n",
    "    # logging artifacts\n",
    "    mf.log_artifacts(folder)\n",
    "\n",
    "    # remove temporary folder\n",
    "    shutil.rmtree(folder)"
   ]
  }
 ],
 "metadata": {
  "kernelspec": {
   "display_name": "Python 3",
   "language": "python",
   "name": "python3"
  },
  "language_info": {
   "codemirror_mode": {
    "name": "ipython",
    "version": 3
   },
   "file_extension": ".py",
   "mimetype": "text/x-python",
   "name": "python",
   "nbconvert_exporter": "python",
   "pygments_lexer": "ipython3",
   "version": "3.7.5"
  }
 },
 "nbformat": 4,
 "nbformat_minor": 4
}
