{
 "cells": [
  {
   "cell_type": "code",
   "execution_count": 13,
   "metadata": {},
   "outputs": [],
   "source": [
    "# author: Milan Mulji "
   ]
  },
  {
   "cell_type": "code",
   "execution_count": 8,
   "metadata": {},
   "outputs": [],
   "source": [
    "# Wine Quality example\n",
    "\n",
    "import os\n",
    "import warnings\n",
    "import sys\n",
    "import glob\n",
    "import shutil\n",
    "\n",
    "import pandas as pd\n",
    "import numpy as np\n",
    "from sklearn.metrics import mean_squared_error, mean_absolute_error, r2_score\n",
    "from sklearn.model_selection import train_test_split\n",
    "from sklearn.linear_model import ElasticNet\n",
    "\n",
    "import mlflow              as mf\n",
    "import mlflow.sklearn"
   ]
  },
  {
   "cell_type": "markdown",
   "metadata": {},
   "source": [
    "# ML Flow Models API \n",
    "\n",
    "## Introduction\n",
    "\n",
    "In this section we take a look at the Models component of MLflow and then deploy a sample model number using a number of different mechanisms.\n",
    "\n",
    "## ML Flow Models\n",
    "\n",
    "MLFlow Models are:\n",
    "\n",
    "- Cross library format to package machine learning models\n",
    "- Model converter from multiple input types to multiple output types\n",
    "- Deployment to Rest endpoint or Apache Spark, AWS Sagemaker, Azure ML\n",
    "\n",
    "\n",
    "## Supported Models \n",
    "\n",
    "ML Flow models supports the following model types:\n",
    "\n",
    "- Custom models\n",
    "- Python Function (python_function)\n",
    "- R Function (crate)\n",
    "- H2O (h2o)\n",
    "- Keras (keras)\n",
    "- MLeap (mleap)\n",
    "- PyTorch (pytorch)\n",
    "- Scikit-learn (sklearn)\n",
    "- Spark MLlib (spark)\n",
    "- TensorFlow (tensorflow)\n",
    "- ONNX (onnx)\n",
    "\n",
    "## What does the ML Flow model look like?\n",
    "\n",
    "Each model run, remember the tracking id's, contains an **artifacts/model** directory. Should be something like this ...\n",
    "\n",
    "```sh\n",
    "│   └── mlruns\n",
    "│       └── 1\n",
    "│           ├── be96e970153640ee92907f30aef92374\n",
    "│           │   └── artifacts\n",
    "│           │       └── model\n",
    "│           │           ├── MLmodel\n",
    "│           │           ├── conda.yaml\n",
    "│           │           └── model.pkl\n",
    "```\n",
    "\n",
    "\n",
    "That directory contains 3 files:\n",
    "\n",
    "- conda.yaml file\n",
    "- MLmodel file\n",
    "- model.pkl file\n",
    "\n",
    "\n",
    "### Conda.yaml File\n",
    "\n",
    "The conda file contains the required dependencies to run this particular model.\n",
    "\n",
    "```yaml\n",
    "channels:\n",
    "- defaults\n",
    "dependencies:\n",
    "- python=3.7.4\n",
    "- scikit-learn=0.21.3\n",
    "- pip:\n",
    "  - mlflow\n",
    "  - cloudpickle==1.2.2\n",
    "name: mlflow-env\n",
    "```\n",
    "\n",
    "### MLmodel File\n",
    "\n",
    "The model contains all the metadata regarding the model in a human readable format. Note the it also records the **run id** where this model was generated.\n",
    "\n",
    "```yaml\n",
    "artifact_path: model\n",
    "flavors:\n",
    "  python_function:\n",
    "    data: model.pkl\n",
    "    env: conda.yaml\n",
    "    loader_module: mlflow.sklearn\n",
    "    python_version: 3.7.4\n",
    "  sklearn:\n",
    "    pickled_model: model.pkl\n",
    "    serialization_format: cloudpickle\n",
    "    sklearn_version: 0.21.3\n",
    "run_id: be96e970153640ee92907f30aef92374\n",
    "utc_time_created: '2019-11-26 12:00:39.822403'\n",
    "\n",
    "```\n",
    "\n",
    "The above example has saves two flavours of our model: **python_function** and **sklearn**\n",
    "\n",
    "### model.pkl file\n",
    "\n",
    "The model.pkl is a pickle serialised Python representation of the model.\n",
    "\n",
    "\n",
    "## Command Line API\n",
    "\n",
    "The command line API supports the use and deployment of an MLFlow model to a number of different targets.  \n",
    "To deploy models locally:\n",
    "\n",
    "```sh\n",
    "mlflow models build-docker  \t# **EXPERIMENTAL**: Builds a Docker image whose default...\n",
    "mlflow models predict       \t# Generate predictions in json format using a saved MLflow...\n",
    "mlflow models serve         \t# Serve a model saved with MLflow by launching a webserver on...\n",
    "```\n",
    "\n",
    "To deploy models remotely:\n",
    "```sh\n",
    "mlflow azureml      # Serve models on Azure ML\n",
    "mlflow sagemaker    # Serve models on SageMaker\n",
    "```\n",
    "\n",
    "## Hands On: Let's do some Model Training ...\n",
    "\n",
    "In the example below we will train a model on wine quality."
   ]
  },
  {
   "cell_type": "code",
   "execution_count": 11,
   "metadata": {},
   "outputs": [],
   "source": [
    "# We start off by telling MLFlow that we want to track this experiment\n",
    "mf.set_tracking_uri(\"http://127.0.0.1:5000\")"
   ]
  },
  {
   "cell_type": "code",
   "execution_count": 12,
   "metadata": {},
   "outputs": [
    {
     "name": "stdout",
     "output_type": "stream",
     "text": [
      "INFO: 'Models - Wine Quality' does not exist. Creating a new experiment\n"
     ]
    }
   ],
   "source": [
    "# We give the experiment a descriptive name \n",
    "experiment_id = mf.set_experiment(\"Models - Wine Quality\")"
   ]
  },
  {
   "cell_type": "code",
   "execution_count": 13,
   "metadata": {},
   "outputs": [
    {
     "name": "stdout",
     "output_type": "stream",
     "text": [
      "Sample Wine Quality data\n",
      "\n",
      "\n",
      "      fixed acidity  volatile acidity  citric acid  residual sugar  chlorides  \\\n",
      "0               7.4             0.700         0.00             1.9      0.076   \n",
      "1               7.8             0.880         0.00             2.6      0.098   \n",
      "2               7.8             0.760         0.04             2.3      0.092   \n",
      "3              11.2             0.280         0.56             1.9      0.075   \n",
      "4               7.4             0.700         0.00             1.9      0.076   \n",
      "...             ...               ...          ...             ...        ...   \n",
      "1594            6.2             0.600         0.08             2.0      0.090   \n",
      "1595            5.9             0.550         0.10             2.2      0.062   \n",
      "1596            6.3             0.510         0.13             2.3      0.076   \n",
      "1597            5.9             0.645         0.12             2.0      0.075   \n",
      "1598            6.0             0.310         0.47             3.6      0.067   \n",
      "\n",
      "      free sulfur dioxide  total sulfur dioxide  density    pH  sulphates  \\\n",
      "0                    11.0                  34.0  0.99780  3.51       0.56   \n",
      "1                    25.0                  67.0  0.99680  3.20       0.68   \n",
      "2                    15.0                  54.0  0.99700  3.26       0.65   \n",
      "3                    17.0                  60.0  0.99800  3.16       0.58   \n",
      "4                    11.0                  34.0  0.99780  3.51       0.56   \n",
      "...                   ...                   ...      ...   ...        ...   \n",
      "1594                 32.0                  44.0  0.99490  3.45       0.58   \n",
      "1595                 39.0                  51.0  0.99512  3.52       0.76   \n",
      "1596                 29.0                  40.0  0.99574  3.42       0.75   \n",
      "1597                 32.0                  44.0  0.99547  3.57       0.71   \n",
      "1598                 18.0                  42.0  0.99549  3.39       0.66   \n",
      "\n",
      "      alcohol  quality  \n",
      "0         9.4        5  \n",
      "1         9.8        5  \n",
      "2         9.8        5  \n",
      "3         9.8        6  \n",
      "4         9.4        5  \n",
      "...       ...      ...  \n",
      "1594     10.5        5  \n",
      "1595     11.2        6  \n",
      "1596     11.0        6  \n",
      "1597     10.2        5  \n",
      "1598     11.0        6  \n",
      "\n",
      "[1599 rows x 12 columns]\n"
     ]
    }
   ],
   "source": [
    "warnings.filterwarnings(\"ignore\")\n",
    "np.random.seed(40)\n",
    "\n",
    "# Read the wine-quality csv file from the URL\n",
    "csv_url = 'http://archive.ics.uci.edu/ml/machine-learning-databases/wine-quality/winequality-red.csv'\n",
    "try:\n",
    "    data = pd.read_csv(csv_url, sep=';')\n",
    "    print (\"Sample Wine Quality data\\n\\n\")\n",
    "    print (data)\n",
    "except Exception as e:\n",
    "    logger.exception(\n",
    "        \"Unable to download training & test CSV, check your internet connection. Error: %s\", e)\n"
   ]
  },
  {
   "cell_type": "code",
   "execution_count": 14,
   "metadata": {},
   "outputs": [],
   "source": [
    "# Function to calculate our model quality metrics\n",
    "\n",
    "def eval_metrics(actual, pred):\n",
    "    rmse = np.sqrt(mean_squared_error(actual, pred))\n",
    "    mae = mean_absolute_error(actual, pred)\n",
    "    r2 = r2_score(actual, pred)\n",
    "    return rmse, mae, r2"
   ]
  },
  {
   "cell_type": "code",
   "execution_count": 15,
   "metadata": {},
   "outputs": [
    {
     "name": "stdout",
     "output_type": "stream",
     "text": [
      "\n",
      "Elasticnet model (alpha=0.500000, l1_ratio=0.500000):\n",
      "  RMSE: 0.7931640229276851\n",
      "  MAE: 0.6271946374319586\n",
      "  R2: 0.10862644997792614\n"
     ]
    }
   ],
   "source": [
    "# Split the data into training and test sets. (0.75, 0.25) split.\n",
    "train, test = train_test_split(data)\n",
    "\n",
    "# The predicted column is \"quality\" which is a scalar from [3, 9]\n",
    "train_x = train.drop([\"quality\"], axis=1)\n",
    "test_x  = test.drop([\"quality\"], axis=1)\n",
    "train_y = train[[\"quality\"]]\n",
    "test_y  = test[[\"quality\"]]\n",
    "\n",
    "alpha    =  0.5\n",
    "l1_ratio =  0.5\n",
    "\n",
    "with mlflow.start_run():\n",
    "    \n",
    "    lr = ElasticNet(alpha=alpha, l1_ratio=l1_ratio, random_state=42)\n",
    "    lr.fit(train_x, train_y)\n",
    "\n",
    "    predicted_qualities = lr.predict(test_x)\n",
    "\n",
    "    (rmse, mae, r2) = eval_metrics(test_y, predicted_qualities)\n",
    "\n",
    "    print(\"\\nElasticnet model (alpha=%f, l1_ratio=%f):\" % (alpha, l1_ratio))\n",
    "    print(\"  RMSE: %s\" % rmse)\n",
    "    print(\"  MAE: %s\" % mae)\n",
    "    print(\"  R2: %s\" % r2)\n",
    "\n",
    "    mlflow.log_param(\"alpha\", alpha)\n",
    "    mlflow.log_param(\"l1_ratio\", l1_ratio)\n",
    "    mlflow.log_metric(\"rmse\", rmse)\n",
    "    mlflow.log_metric(\"r2\", r2)\n",
    "    mlflow.log_metric(\"mae\", mae)\n",
    "\n",
    "    mlflow.sklearn.log_model(lr, \"model\")"
   ]
  },
  {
   "cell_type": "markdown",
   "metadata": {},
   "source": [
    "## Hands On: Deploy your MLFlow model locally\n",
    "\n",
    "In this hands-on demo you will locally deploy an mlflow model to a REST endpoint and test it by invoking it using the Curl utility.\n",
    "\n",
    "For those of you who don't have Curl, please install a copy from here: https://curl.haxx.se/\n",
    "Alternatively you can use Postman or a similar tool to send HTTP requests.\n"
   ]
  },
  {
   "cell_type": "code",
   "execution_count": 17,
   "metadata": {},
   "outputs": [
    {
     "name": "stdout",
     "output_type": "stream",
     "text": [
      "All runId's:\n",
      "['./mlruns/1/bf376c8115904525ac9a0b92d89b28ea', './mlruns/1/be96e970153640ee92907f30aef92374', './mlruns/1/e3ad359f9d2b408da08c3ef0c770464d', './mlruns/2/8afdf33e64e24f7cb8e6e5fbaf503042']\n",
      "\n",
      "\n",
      "First run directory is : ./mlruns/1/bf376c8115904525ac9a0b92d89b28ea\n",
      "Run Id                 :  bf376c8115904525ac9a0b92d89b28ea\n"
     ]
    }
   ],
   "source": [
    "# First find the run-id of the model that we want to serve\n",
    "\n",
    "# Get a list of all run-ids in the mlruns directory\n",
    "runIds = glob.glob(\"./mlruns/*/*\")\n",
    "\n",
    "# Print out what we've found\n",
    "print(\"All runId's:\")\n",
    "print(runIds)\n",
    "\n",
    "# Extract the first, plus rest directories\n",
    "head, *tail = runIds\n",
    "selected_run_id = os.path.basename(head)\n",
    "\n",
    "# Print out what we've found\n",
    "print(\"\\n\")\n",
    "print(\"First run directory is : \" + head)\n",
    "print(\"Run Id                 :  \" + selected_run_id)"
   ]
  },
  {
   "cell_type": "code",
   "execution_count": null,
   "metadata": {},
   "outputs": [],
   "source": [
    "# Substitute the run-id into the serve instruction\n",
    "# !mlflow models serve -m \"runs://1//e3ad359f9d2b408da08c3ef0c770464d//model\" -p 1234\n",
    "! mlflow models serve -m runs:/my-run-id/model-path &"
   ]
  },
  {
   "cell_type": "markdown",
   "metadata": {},
   "source": [
    "\n",
    "Remember the columns from our Dataset:\n",
    "\n",
    "```sh\n",
    "fixed acidity  volatile acidity  citric acid  residual sugar  chlorides  \\\n",
    "0               7.4             0.700         0.00             1.9      0.076   \n",
    " \n",
    "      free sulfur dioxide  total sulfur dioxide  density    pH  sulphates  \\\n",
    "0                    11.0                  34.0  0.99780  3.51       0.56   \n",
    "\n",
    "      alcohol  quality\n",
    "0         9.4        5  \n",
    "```\n",
    "\n",
    "We can now call the deployed rest api. Here we define which columns the data will come into the API and then the 2 sets of data to perform inference on.\n",
    "\n",
    "```sh\n",
    "curl http://127.0.0.1:5000/invocations -H 'Content-Type: application/json' -d '{\"columns\": [\"a\", \"b\", \"c\"], \"data\": [[1, 2, 3], [4, 5, 6]]}'\n",
    "```"
   ]
  },
  {
   "cell_type": "code",
   "execution_count": 20,
   "metadata": {},
   "outputs": [
    {
     "name": "stdout",
     "output_type": "stream",
     "text": [
      "curl: (7) Failed to connect to 127.0.0.1 port 5000: Connection refused\r\n"
     ]
    }
   ],
   "source": [
    "\n",
    "! curl http://127.0.0.1:5000/invocations -H 'Content-Type: application/json' -d '{\"columns\": [\"fixed acidity\", \"volatile acidity\", \"citric acid\", \"residual sugar\", \"chlorides\", \"free sulfur dioxide\", \"total sulfur dioxide\", \"density\", \"pH\", \"sulphates\", \"alcohol\", \"quality\"], \"data\": [[7.4, 0.700, 0.00, 1.9, 0.076, 11.0, 34.0, 0.99780, 3.51, 0.56, 9.4, 5]]}'"
   ]
  },
  {
   "cell_type": "markdown",
   "metadata": {},
   "source": [
    "## Deploying to AWS Sagemaker\n",
    "\n",
    "```sh\n",
    "Usage: mlflow sagemaker [OPTIONS] COMMAND [ARGS]...\n",
    "\n",
    "  Serve models on SageMaker.\n",
    "\n",
    "  To serve a model associated with a run on a tracking server, set the\n",
    "  MLFLOW_TRACKING_URI environment variable to the URL of the desired server.\n",
    "\n",
    "Options:\n",
    "  --help  Show this message and exit.\n",
    "\n",
    "Commands:\n",
    "  build-and-push-container  Build new MLflow Sagemaker image, assign it a...\n",
    "  delete                    Delete the specified application.\n",
    "  deploy                    Deploy model on Sagemaker as a REST API...\n",
    "  run-local                 Serve model locally running in a...\n",
    "```"
   ]
  },
  {
   "cell_type": "code",
   "execution_count": null,
   "metadata": {},
   "outputs": [],
   "source": [
    "# ! mlflow sagemaker deploy -m my_model --app-name [other options]"
   ]
  }
 ],
 "metadata": {
  "kernelspec": {
   "display_name": "Python 3",
   "language": "python",
   "name": "python3"
  },
  "language_info": {
   "codemirror_mode": {
    "name": "ipython",
    "version": 3
   },
   "file_extension": ".py",
   "mimetype": "text/x-python",
   "name": "python",
   "nbconvert_exporter": "python",
   "pygments_lexer": "ipython3",
   "version": "3.7.4"
  },
  "nteract": {
   "version": "0.15.0"
  }
 },
 "nbformat": 4,
 "nbformat_minor": 4
}
