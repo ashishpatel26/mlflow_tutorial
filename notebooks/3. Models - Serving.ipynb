{
  "cells": [
    {
      "cell_type": "code",
      "source": [
        "# author: Vladimir Osin "
      ],
      "outputs": [],
      "execution_count": null,
      "metadata": {}
    },
    {
      "cell_type": "code",
      "source": [
        "import os\n",
        "import torch\n",
        "import torch.nn            as nn\n",
        "import torch.optim         as optim\n",
        "import torch.nn.functional as F\n",
        "import mlflow              as mf\n",
        "import mlflow.pytorch\n",
        "import shutil\n",
        "\n",
        "from torch.utils.data import DataLoader\n",
        "from torchvision      import datasets, transforms\n",
        "from torch.autograd   import Variable"
      ],
      "outputs": [
        {
          "output_type": "stream",
          "name": "stderr",
          "text": [
            "c:\\users\\resol\\miniconda3\\envs\\mlflow_tutorial\\lib\\site-packages\\torchvision\\datasets\\lsun.py:8: DeprecationWarning: Using or importing the ABCs from 'collections' instead of from 'collections.abc' is deprecated since Python 3.3,and in 3.9 it will stop working\n",
            "  from collections import Iterable\n"
          ]
        }
      ],
      "execution_count": 1,
      "metadata": {}
    },
    {
      "cell_type": "code",
      "source": [
        "mf.set_tracking_uri(\"http://127.0.0.1:5000\")"
      ],
      "outputs": [],
      "execution_count": 6,
      "metadata": {}
    },
    {
      "cell_type": "code",
      "source": [
        "experiment_id = mf.set_experiment(\"Models - Serving\")"
      ],
      "outputs": [
        {
          "output_type": "stream",
          "name": "stdout",
          "text": [
            "INFO: 'Models - Serving' does not exist. Creating a new experiment\n"
          ]
        }
      ],
      "execution_count": 7,
      "metadata": {}
    },
    {
      "cell_type": "code",
      "source": [
        "import os\n",
        "import warnings\n",
        "import sys\n",
        "\n",
        "import pandas as pd\n",
        "import numpy as np\n",
        "from sklearn.metrics import mean_squared_error, mean_absolute_error, r2_score\n",
        "from sklearn.model_selection import train_test_split\n",
        "from sklearn.linear_model import ElasticNet\n",
        "\n",
        "import mlflow\n",
        "import mlflow.sklearn\n",
        "\n",
        "\n",
        "def eval_metrics(actual, pred):\n",
        "    rmse = np.sqrt(mean_squared_error(actual, pred))\n",
        "    mae = mean_absolute_error(actual, pred)\n",
        "    r2 = r2_score(actual, pred)\n",
        "    return rmse, mae, r2"
      ],
      "outputs": [],
      "execution_count": 8,
      "metadata": {}
    },
    {
      "cell_type": "code",
      "source": [
        "warnings.filterwarnings(\"ignore\")\n",
        "np.random.seed(40)\n",
        "\n",
        "# Read the wine-quality csv file from the URL\n",
        "csv_url = 'http://archive.ics.uci.edu/ml/machine-learning-databases/wine-quality/winequality-red.csv'\n",
        "try:\n",
        "    data = pd.read_csv(csv_url, sep=';')\n",
        "except Exception as e:\n",
        "    logger.exception(\n",
        "        \"Unable to download training & test CSV, check your internet connection. Error: %s\", e)\n",
        "\n",
        "# Split the data into training and test sets. (0.75, 0.25) split.\n",
        "train, test = train_test_split(data)\n",
        "\n",
        "# The predicted column is \"quality\" which is a scalar from [3, 9]\n",
        "train_x = train.drop([\"quality\"], axis=1)\n",
        "test_x  = test.drop([\"quality\"], axis=1)\n",
        "train_y = train[[\"quality\"]]\n",
        "test_y  = test[[\"quality\"]]\n",
        "\n",
        "alpha    =  0.5\n",
        "l1_ratio =  0.5\n",
        "\n",
        "with mlflow.start_run():\n",
        "    lr = ElasticNet(alpha=alpha, l1_ratio=l1_ratio, random_state=42)\n",
        "    lr.fit(train_x, train_y)\n",
        "\n",
        "    predicted_qualities = lr.predict(test_x)\n",
        "\n",
        "    (rmse, mae, r2) = eval_metrics(test_y, predicted_qualities)\n",
        "\n",
        "    print(\"Elasticnet model (alpha=%f, l1_ratio=%f):\" % (alpha, l1_ratio))\n",
        "    print(\"  RMSE: %s\" % rmse)\n",
        "    print(\"  MAE: %s\" % mae)\n",
        "    print(\"  R2: %s\" % r2)\n",
        "\n",
        "    mlflow.log_param(\"alpha\", alpha)\n",
        "    mlflow.log_param(\"l1_ratio\", l1_ratio)\n",
        "    mlflow.log_metric(\"rmse\", rmse)\n",
        "    mlflow.log_metric(\"r2\", r2)\n",
        "    mlflow.log_metric(\"mae\", mae)\n",
        "\n",
        "    mlflow.sklearn.log_model(lr, \"model\")"
      ],
      "outputs": [
        {
          "output_type": "stream",
          "name": "stdout",
          "text": [
            "Elasticnet model (alpha=0.500000, l1_ratio=0.500000):\n",
            "  RMSE: 0.7931640229276851\n",
            "  MAE: 0.6271946374319586\n",
            "  R2: 0.10862644997792614\n"
          ]
        }
      ],
      "execution_count": 10,
      "metadata": {}
    },
    {
      "cell_type": "code",
      "source": [
        "!mlflow models serve -m \"file:///C:\\\\Users\\\\resol\\\\OneDrive - Philips Lighting\\\\code\\\\mlflow_tutorial\\\\artifact_store\\/4/207b226c40374acfafd464300f134f63/artifacts/model\" -p 1234"
      ],
      "outputs": [],
      "execution_count": null,
      "metadata": {}
    },
    {
      "cell_type": "code",
      "source": [],
      "outputs": [],
      "execution_count": null,
      "metadata": {}
    }
  ],
  "metadata": {
    "kernelspec": {
      "display_name": "Python 3",
      "language": "python",
      "name": "python3"
    },
    "language_info": {
      "codemirror_mode": {
        "name": "ipython",
        "version": 3
      },
      "file_extension": ".py",
      "mimetype": "text/x-python",
      "name": "python",
      "nbconvert_exporter": "python",
      "pygments_lexer": "ipython3",
      "version": "3.7.5"
    },
    "nteract": {
      "version": "0.15.0"
    }
  },
  "nbformat": 4,
  "nbformat_minor": 4
}